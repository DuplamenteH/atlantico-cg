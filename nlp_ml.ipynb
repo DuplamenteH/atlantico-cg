{
 "cells": [
  {
   "cell_type": "code",
   "execution_count": 1,
   "metadata": {},
   "outputs": [],
   "source": [
    "import tensorflow.keras as keras\n",
    "import pandas as pd\n",
    "import numpy as np\n",
    "import re\n",
    "import codecs\n",
    "import itertools\n",
    "import matplotlib\n",
    "import matplotlib.patches as mpatches\n",
    "import matplotlib.pyplot as plt\n",
    "import numpy as np\n",
    "import gensim\n",
    "import nltk"
   ]
  },
  {
   "cell_type": "markdown",
   "metadata": {},
   "source": []
  },
  {
   "cell_type": "code",
   "execution_count": null,
   "metadata": {},
   "outputs": [],
   "source": [
    "# Construindo bag-of-words com count-vectorizer \n",
    "count_vectorizer = CountVectorizer() \n",
    "# Separando o texto da variável alvo \n",
    "list_corpus = clean_questions[\"text\"].tolist() \n",
    "list_labels = clean_questions[\"class_label\"].tolist() \n",
    "# Construindo exemplos para treinamento e teste \n",
    "X_train, X_test, y_train, y_test = train_test_split(list_corpus, list_labels, test_size=0.2, random_state=40)                                                           \n",
    "# Aprendendo o vacabulário e contabilizando os termos para teste \n",
    "X_train_counts = count_vectorizer.fit_transform(X_train) \n",
    "# Contabilizando os termos no vocabulário aprendido para treino \n",
    "X_test_counts = count_vectorizer.transform(X_test)"
   ]
  }
 ],
 "metadata": {
  "interpreter": {
   "hash": "d8edb282d739b5deebcfc5e9e3b5aae822ba81ef63bf6d5c70f6c5980c70ebff"
  },
  "kernelspec": {
   "display_name": "Python 3.8.8 ('base')",
   "language": "python",
   "name": "python3"
  },
  "language_info": {
   "codemirror_mode": {
    "name": "ipython",
    "version": 3
   },
   "file_extension": ".py",
   "mimetype": "text/x-python",
   "name": "python",
   "nbconvert_exporter": "python",
   "pygments_lexer": "ipython3",
   "version": "3.8.8"
  },
  "orig_nbformat": 4
 },
 "nbformat": 4,
 "nbformat_minor": 2
}
